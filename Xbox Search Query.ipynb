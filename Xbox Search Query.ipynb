{
 "cells": [
  {
   "cell_type": "markdown",
   "id": "1541ada7",
   "metadata": {},
   "source": [
    "# IMPORTS"
   ]
  },
  {
   "cell_type": "code",
   "execution_count": 1,
   "id": "8ed3f531",
   "metadata": {},
   "outputs": [],
   "source": [
    "import pandas as pd\n",
    "import numpy as np\n",
    "import matplotlib.pyplot as plt\n",
    "import seaborn as sns\n",
    "%matplotlib inline"
   ]
  },
  {
   "cell_type": "code",
   "execution_count": 2,
   "id": "13fe6e08",
   "metadata": {},
   "outputs": [],
   "source": [
    "import sklearn\n",
    "from sklearn.model_selection import train_test_split\n",
    "from sklearn.linear_model import LogisticRegression\n",
    "from sklearn.ensemble import RandomForestClassifier\n",
    "from sklearn.neighbors import KNeighborsClassifier\n",
    "from lightgbm import LGBMClassifier"
   ]
  },
  {
   "cell_type": "code",
   "execution_count": 3,
   "id": "cafcce82",
   "metadata": {},
   "outputs": [],
   "source": [
    "from sklearn.metrics import accuracy_score,precision_score\n",
    "\n",
    "import warnings\n",
    "warnings.filterwarnings(\"ignore\")\n"
   ]
  },
  {
   "cell_type": "markdown",
   "id": "90f9471d",
   "metadata": {},
   "source": [
    "# Loading Dataset"
   ]
  },
  {
   "cell_type": "code",
   "execution_count": 4,
   "id": "7af72c8f",
   "metadata": {},
   "outputs": [],
   "source": [
    "Xbox_data=pd.read_csv('train.csv')"
   ]
  },
  {
   "cell_type": "markdown",
   "id": "053b3cc9",
   "metadata": {},
   "source": [
    "# EXPLONATORY DATA ANALYSIS"
   ]
  },
  {
   "cell_type": "code",
   "execution_count": 5,
   "id": "a208a344",
   "metadata": {},
   "outputs": [
    {
     "data": {
      "text/html": [
       "<div>\n",
       "<style scoped>\n",
       "    .dataframe tbody tr th:only-of-type {\n",
       "        vertical-align: middle;\n",
       "    }\n",
       "\n",
       "    .dataframe tbody tr th {\n",
       "        vertical-align: top;\n",
       "    }\n",
       "\n",
       "    .dataframe thead th {\n",
       "        text-align: right;\n",
       "    }\n",
       "</style>\n",
       "<table border=\"1\" class=\"dataframe\">\n",
       "  <thead>\n",
       "    <tr style=\"text-align: right;\">\n",
       "      <th></th>\n",
       "      <th>user</th>\n",
       "      <th>sku</th>\n",
       "      <th>category</th>\n",
       "      <th>query</th>\n",
       "      <th>click_time</th>\n",
       "      <th>query_time</th>\n",
       "    </tr>\n",
       "  </thead>\n",
       "  <tbody>\n",
       "    <tr>\n",
       "      <th>0</th>\n",
       "      <td>0001cd0d10bbc585c9ba287c963e00873d4c0bfd</td>\n",
       "      <td>2032076</td>\n",
       "      <td>abcat0701002</td>\n",
       "      <td>gears of war</td>\n",
       "      <td>2011-10-09 17:22:56.101</td>\n",
       "      <td>2011-10-09 17:21:42.917</td>\n",
       "    </tr>\n",
       "    <tr>\n",
       "      <th>1</th>\n",
       "      <td>00033dbced6acd3626c4b56ff5c55b8d69911681</td>\n",
       "      <td>9854804</td>\n",
       "      <td>abcat0701002</td>\n",
       "      <td>Gears of war</td>\n",
       "      <td>2011-09-25 13:35:42.198</td>\n",
       "      <td>2011-09-25 13:35:33.234</td>\n",
       "    </tr>\n",
       "    <tr>\n",
       "      <th>2</th>\n",
       "      <td>00033dbced6acd3626c4b56ff5c55b8d69911681</td>\n",
       "      <td>2670133</td>\n",
       "      <td>abcat0701002</td>\n",
       "      <td>Gears of war</td>\n",
       "      <td>2011-09-25 13:36:08.668</td>\n",
       "      <td>2011-09-25 13:35:33.234</td>\n",
       "    </tr>\n",
       "    <tr>\n",
       "      <th>3</th>\n",
       "      <td>00033dbced6acd3626c4b56ff5c55b8d69911681</td>\n",
       "      <td>9984142</td>\n",
       "      <td>abcat0701002</td>\n",
       "      <td>Assassin creed</td>\n",
       "      <td>2011-09-25 13:37:23.709</td>\n",
       "      <td>2011-09-25 13:37:00.049</td>\n",
       "    </tr>\n",
       "    <tr>\n",
       "      <th>4</th>\n",
       "      <td>0007756f015345450f7be1df33695421466b7ce4</td>\n",
       "      <td>2541184</td>\n",
       "      <td>abcat0701002</td>\n",
       "      <td>dead island</td>\n",
       "      <td>2011-09-11 15:15:34.336</td>\n",
       "      <td>2011-09-11 15:15:26.206</td>\n",
       "    </tr>\n",
       "  </tbody>\n",
       "</table>\n",
       "</div>"
      ],
      "text/plain": [
       "                                       user      sku      category  \\\n",
       "0  0001cd0d10bbc585c9ba287c963e00873d4c0bfd  2032076  abcat0701002   \n",
       "1  00033dbced6acd3626c4b56ff5c55b8d69911681  9854804  abcat0701002   \n",
       "2  00033dbced6acd3626c4b56ff5c55b8d69911681  2670133  abcat0701002   \n",
       "3  00033dbced6acd3626c4b56ff5c55b8d69911681  9984142  abcat0701002   \n",
       "4  0007756f015345450f7be1df33695421466b7ce4  2541184  abcat0701002   \n",
       "\n",
       "            query               click_time               query_time  \n",
       "0    gears of war  2011-10-09 17:22:56.101  2011-10-09 17:21:42.917  \n",
       "1    Gears of war  2011-09-25 13:35:42.198  2011-09-25 13:35:33.234  \n",
       "2    Gears of war  2011-09-25 13:36:08.668  2011-09-25 13:35:33.234  \n",
       "3  Assassin creed  2011-09-25 13:37:23.709  2011-09-25 13:37:00.049  \n",
       "4     dead island  2011-09-11 15:15:34.336  2011-09-11 15:15:26.206  "
      ]
     },
     "execution_count": 5,
     "metadata": {},
     "output_type": "execute_result"
    }
   ],
   "source": [
    "Xbox_data.head()"
   ]
  },
  {
   "cell_type": "code",
   "execution_count": 6,
   "id": "14f420d5",
   "metadata": {},
   "outputs": [
    {
     "data": {
      "text/html": [
       "<div>\n",
       "<style scoped>\n",
       "    .dataframe tbody tr th:only-of-type {\n",
       "        vertical-align: middle;\n",
       "    }\n",
       "\n",
       "    .dataframe tbody tr th {\n",
       "        vertical-align: top;\n",
       "    }\n",
       "\n",
       "    .dataframe thead th {\n",
       "        text-align: right;\n",
       "    }\n",
       "</style>\n",
       "<table border=\"1\" class=\"dataframe\">\n",
       "  <thead>\n",
       "    <tr style=\"text-align: right;\">\n",
       "      <th></th>\n",
       "      <th>sku</th>\n",
       "    </tr>\n",
       "  </thead>\n",
       "  <tbody>\n",
       "    <tr>\n",
       "      <th>count</th>\n",
       "      <td>4.236500e+04</td>\n",
       "    </tr>\n",
       "    <tr>\n",
       "      <th>mean</th>\n",
       "      <td>2.360281e+11</td>\n",
       "    </tr>\n",
       "    <tr>\n",
       "      <th>std</th>\n",
       "      <td>4.858031e+13</td>\n",
       "    </tr>\n",
       "    <tr>\n",
       "      <th>min</th>\n",
       "      <td>1.004622e+06</td>\n",
       "    </tr>\n",
       "    <tr>\n",
       "      <th>25%</th>\n",
       "      <td>2.173065e+06</td>\n",
       "    </tr>\n",
       "    <tr>\n",
       "      <th>50%</th>\n",
       "      <td>2.670133e+06</td>\n",
       "    </tr>\n",
       "    <tr>\n",
       "      <th>75%</th>\n",
       "      <td>3.046603e+06</td>\n",
       "    </tr>\n",
       "    <tr>\n",
       "      <th>max</th>\n",
       "      <td>9.999169e+15</td>\n",
       "    </tr>\n",
       "  </tbody>\n",
       "</table>\n",
       "</div>"
      ],
      "text/plain": [
       "                sku\n",
       "count  4.236500e+04\n",
       "mean   2.360281e+11\n",
       "std    4.858031e+13\n",
       "min    1.004622e+06\n",
       "25%    2.173065e+06\n",
       "50%    2.670133e+06\n",
       "75%    3.046603e+06\n",
       "max    9.999169e+15"
      ]
     },
     "execution_count": 6,
     "metadata": {},
     "output_type": "execute_result"
    }
   ],
   "source": [
    "Xbox_data.describe()"
   ]
  },
  {
   "cell_type": "code",
   "execution_count": 7,
   "id": "03038350",
   "metadata": {},
   "outputs": [
    {
     "name": "stdout",
     "output_type": "stream",
     "text": [
      "<class 'pandas.core.frame.DataFrame'>\n",
      "RangeIndex: 42365 entries, 0 to 42364\n",
      "Data columns (total 6 columns):\n",
      " #   Column      Non-Null Count  Dtype \n",
      "---  ------      --------------  ----- \n",
      " 0   user        42365 non-null  object\n",
      " 1   sku         42365 non-null  int64 \n",
      " 2   category    42365 non-null  object\n",
      " 3   query       42365 non-null  object\n",
      " 4   click_time  42365 non-null  object\n",
      " 5   query_time  42365 non-null  object\n",
      "dtypes: int64(1), object(5)\n",
      "memory usage: 1.9+ MB\n"
     ]
    }
   ],
   "source": [
    "Xbox_data.info()"
   ]
  },
  {
   "cell_type": "code",
   "execution_count": 8,
   "id": "19a9c26a",
   "metadata": {},
   "outputs": [
    {
     "data": {
      "text/plain": [
       "5960"
      ]
     },
     "execution_count": 8,
     "metadata": {},
     "output_type": "execute_result"
    }
   ],
   "source": [
    "Xbox_data['query'].nunique()"
   ]
  },
  {
   "cell_type": "code",
   "execution_count": 9,
   "id": "2947c291",
   "metadata": {},
   "outputs": [
    {
     "data": {
      "text/plain": [
       "False"
      ]
     },
     "execution_count": 9,
     "metadata": {},
     "output_type": "execute_result"
    }
   ],
   "source": [
    "Xbox_data['query'].isnull().values.any()"
   ]
  },
  {
   "cell_type": "code",
   "execution_count": 10,
   "id": "b8cfb42e",
   "metadata": {},
   "outputs": [
    {
     "data": {
      "text/plain": [
       "413"
      ]
     },
     "execution_count": 10,
     "metadata": {},
     "output_type": "execute_result"
    }
   ],
   "source": [
    "Xbox_data['sku'].nunique()"
   ]
  },
  {
   "cell_type": "code",
   "execution_count": 11,
   "id": "0bee66cc",
   "metadata": {},
   "outputs": [
    {
     "data": {
      "text/plain": [
       "1"
      ]
     },
     "execution_count": 11,
     "metadata": {},
     "output_type": "execute_result"
    }
   ],
   "source": [
    "Xbox_data['category'].nunique()"
   ]
  },
  {
   "cell_type": "code",
   "execution_count": 12,
   "id": "e9f4f4ac",
   "metadata": {},
   "outputs": [
    {
     "data": {
      "text/plain": [
       "9854804    2966\n",
       "2107458    2607\n",
       "2541184    2557\n",
       "2670133    2321\n",
       "2173065    2075\n",
       "2945052    1832\n",
       "2078113    1343\n",
       "2953607    1129\n",
       "2467129    1039\n",
       "2977637    1019\n",
       "Name: sku, dtype: int64"
      ]
     },
     "execution_count": 12,
     "metadata": {},
     "output_type": "execute_result"
    }
   ],
   "source": [
    "values = Xbox_data['sku'].value_counts()\n",
    "values.head(10)"
   ]
  },
  {
   "cell_type": "code",
   "execution_count": 13,
   "id": "db39fb92",
   "metadata": {},
   "outputs": [],
   "source": [
    "newxbox_data=Xbox_data[(Xbox_data['sku']==9854804) | (Xbox_data['sku']== 2107458)]"
   ]
  },
  {
   "cell_type": "code",
   "execution_count": 14,
   "id": "56dbdd75",
   "metadata": {},
   "outputs": [
    {
     "data": {
      "text/html": [
       "<div>\n",
       "<style scoped>\n",
       "    .dataframe tbody tr th:only-of-type {\n",
       "        vertical-align: middle;\n",
       "    }\n",
       "\n",
       "    .dataframe tbody tr th {\n",
       "        vertical-align: top;\n",
       "    }\n",
       "\n",
       "    .dataframe thead th {\n",
       "        text-align: right;\n",
       "    }\n",
       "</style>\n",
       "<table border=\"1\" class=\"dataframe\">\n",
       "  <thead>\n",
       "    <tr style=\"text-align: right;\">\n",
       "      <th></th>\n",
       "      <th>user</th>\n",
       "      <th>sku</th>\n",
       "      <th>category</th>\n",
       "      <th>query</th>\n",
       "      <th>click_time</th>\n",
       "      <th>query_time</th>\n",
       "    </tr>\n",
       "  </thead>\n",
       "  <tbody>\n",
       "    <tr>\n",
       "      <th>1</th>\n",
       "      <td>00033dbced6acd3626c4b56ff5c55b8d69911681</td>\n",
       "      <td>9854804</td>\n",
       "      <td>abcat0701002</td>\n",
       "      <td>Gears of war</td>\n",
       "      <td>2011-09-25 13:35:42.198</td>\n",
       "      <td>2011-09-25 13:35:33.234</td>\n",
       "    </tr>\n",
       "    <tr>\n",
       "      <th>12</th>\n",
       "      <td>0010a136a422578130886603598d52f326a8927b</td>\n",
       "      <td>9854804</td>\n",
       "      <td>abcat0701002</td>\n",
       "      <td>Gears of war 3</td>\n",
       "      <td>2011-10-08 15:54:06.4</td>\n",
       "      <td>2011-10-08 15:53:31.486</td>\n",
       "    </tr>\n",
       "    <tr>\n",
       "      <th>23</th>\n",
       "      <td>001d856329a212eb052e1597663150a2421a3c02</td>\n",
       "      <td>9854804</td>\n",
       "      <td>abcat0701002</td>\n",
       "      <td>Gears of war 3</td>\n",
       "      <td>2011-09-07 17:48:58.823</td>\n",
       "      <td>2011-09-07 17:48:52.138</td>\n",
       "    </tr>\n",
       "    <tr>\n",
       "      <th>31</th>\n",
       "      <td>0030b51e85341499f00456e0706f9a5fec8d1d1e</td>\n",
       "      <td>9854804</td>\n",
       "      <td>abcat0701002</td>\n",
       "      <td>Gears of war 3</td>\n",
       "      <td>2011-09-05 20:25:51.207</td>\n",
       "      <td>2011-09-05 20:25:04.134</td>\n",
       "    </tr>\n",
       "    <tr>\n",
       "      <th>39</th>\n",
       "      <td>004070311172f0fa3974a88133b5769135ac2938</td>\n",
       "      <td>9854804</td>\n",
       "      <td>abcat0701002</td>\n",
       "      <td>Gears of war</td>\n",
       "      <td>2011-09-20 02:25:50.707</td>\n",
       "      <td>2011-09-20 02:25:34.905</td>\n",
       "    </tr>\n",
       "    <tr>\n",
       "      <th>...</th>\n",
       "      <td>...</td>\n",
       "      <td>...</td>\n",
       "      <td>...</td>\n",
       "      <td>...</td>\n",
       "      <td>...</td>\n",
       "      <td>...</td>\n",
       "    </tr>\n",
       "    <tr>\n",
       "      <th>42318</th>\n",
       "      <td>ffad00eed46cb26a07f8bff3d486517ae954a156</td>\n",
       "      <td>9854804</td>\n",
       "      <td>abcat0701002</td>\n",
       "      <td>Gears of war</td>\n",
       "      <td>2011-09-18 13:38:26.501</td>\n",
       "      <td>2011-09-18 13:35:23.344</td>\n",
       "    </tr>\n",
       "    <tr>\n",
       "      <th>42336</th>\n",
       "      <td>ffc71fdb3a23e44c42d5b0f6a3000900a84627c8</td>\n",
       "      <td>2107458</td>\n",
       "      <td>abcat0701002</td>\n",
       "      <td>battefield 3</td>\n",
       "      <td>2011-10-20 22:25:26.742</td>\n",
       "      <td>2011-10-20 22:24:26.833</td>\n",
       "    </tr>\n",
       "    <tr>\n",
       "      <th>42340</th>\n",
       "      <td>ffd516c399d0e348b5d4d707a29ccbe9defe384b</td>\n",
       "      <td>2107458</td>\n",
       "      <td>abcat0701002</td>\n",
       "      <td>battefield</td>\n",
       "      <td>2011-10-29 12:14:37.458</td>\n",
       "      <td>2011-10-29 12:14:28.764</td>\n",
       "    </tr>\n",
       "    <tr>\n",
       "      <th>42343</th>\n",
       "      <td>ffdd8017f1216292021162aa4513d476500c09ce</td>\n",
       "      <td>9854804</td>\n",
       "      <td>abcat0701002</td>\n",
       "      <td>Gears of war 3</td>\n",
       "      <td>2011-09-23 05:44:36.313</td>\n",
       "      <td>2011-09-23 05:44:20.78</td>\n",
       "    </tr>\n",
       "    <tr>\n",
       "      <th>42351</th>\n",
       "      <td>ffe73997d746d6567294760c18634c67363b3364</td>\n",
       "      <td>2107458</td>\n",
       "      <td>abcat0701002</td>\n",
       "      <td>Battlefield 3</td>\n",
       "      <td>2011-09-30 00:43:37.343</td>\n",
       "      <td>2011-09-30 00:43:17.95</td>\n",
       "    </tr>\n",
       "  </tbody>\n",
       "</table>\n",
       "<p>5573 rows × 6 columns</p>\n",
       "</div>"
      ],
      "text/plain": [
       "                                           user      sku      category  \\\n",
       "1      00033dbced6acd3626c4b56ff5c55b8d69911681  9854804  abcat0701002   \n",
       "12     0010a136a422578130886603598d52f326a8927b  9854804  abcat0701002   \n",
       "23     001d856329a212eb052e1597663150a2421a3c02  9854804  abcat0701002   \n",
       "31     0030b51e85341499f00456e0706f9a5fec8d1d1e  9854804  abcat0701002   \n",
       "39     004070311172f0fa3974a88133b5769135ac2938  9854804  abcat0701002   \n",
       "...                                         ...      ...           ...   \n",
       "42318  ffad00eed46cb26a07f8bff3d486517ae954a156  9854804  abcat0701002   \n",
       "42336  ffc71fdb3a23e44c42d5b0f6a3000900a84627c8  2107458  abcat0701002   \n",
       "42340  ffd516c399d0e348b5d4d707a29ccbe9defe384b  2107458  abcat0701002   \n",
       "42343  ffdd8017f1216292021162aa4513d476500c09ce  9854804  abcat0701002   \n",
       "42351  ffe73997d746d6567294760c18634c67363b3364  2107458  abcat0701002   \n",
       "\n",
       "                query               click_time               query_time  \n",
       "1        Gears of war  2011-09-25 13:35:42.198  2011-09-25 13:35:33.234  \n",
       "12     Gears of war 3    2011-10-08 15:54:06.4  2011-10-08 15:53:31.486  \n",
       "23     Gears of war 3  2011-09-07 17:48:58.823  2011-09-07 17:48:52.138  \n",
       "31     Gears of war 3  2011-09-05 20:25:51.207  2011-09-05 20:25:04.134  \n",
       "39       Gears of war  2011-09-20 02:25:50.707  2011-09-20 02:25:34.905  \n",
       "...               ...                      ...                      ...  \n",
       "42318    Gears of war  2011-09-18 13:38:26.501  2011-09-18 13:35:23.344  \n",
       "42336    battefield 3  2011-10-20 22:25:26.742  2011-10-20 22:24:26.833  \n",
       "42340      battefield  2011-10-29 12:14:37.458  2011-10-29 12:14:28.764  \n",
       "42343  Gears of war 3  2011-09-23 05:44:36.313   2011-09-23 05:44:20.78  \n",
       "42351   Battlefield 3  2011-09-30 00:43:37.343   2011-09-30 00:43:17.95  \n",
       "\n",
       "[5573 rows x 6 columns]"
      ]
     },
     "execution_count": 14,
     "metadata": {},
     "output_type": "execute_result"
    }
   ],
   "source": [
    "newxbox_data"
   ]
  },
  {
   "cell_type": "code",
   "execution_count": 15,
   "id": "437746a0",
   "metadata": {},
   "outputs": [
    {
     "data": {
      "text/plain": [
       "<AxesSubplot:>"
      ]
     },
     "execution_count": 15,
     "metadata": {},
     "output_type": "execute_result"
    },
    {
     "data": {
      "image/png": "[encoded data removed]",
      "text/plain": [
       "<Figure size 432x288 with 2 Axes>"
      ]
     },
     "metadata": {},
     "output_type": "display_data"
    }
   ],
   "source": [
    "sns.set_style('darkgrid')\n",
    "sns.heatmap(newxbox_data.isnull(),cmap='viridis')"
   ]
  },
  {
   "cell_type": "markdown",
   "id": "bd6f3163",
   "metadata": {},
   "source": [
    "# Data preprocessing"
   ]
  },
  {
   "cell_type": "markdown",
   "id": "960fd30f",
   "metadata": {},
   "source": [
    "## including query_length"
   ]
  },
  {
   "cell_type": "code",
   "execution_count": 16,
   "id": "180b9ed4",
   "metadata": {
    "scrolled": true
   },
   "outputs": [],
   "source": [
    "newxbox_data['query_length']=newxbox_data['query'].apply(len)"
   ]
  },
  {
   "cell_type": "code",
   "execution_count": 17,
   "id": "ab933230",
   "metadata": {},
   "outputs": [
    {
     "data": {
      "text/plain": [
       "<AxesSubplot:ylabel='Frequency'>"
      ]
     },
     "execution_count": 17,
     "metadata": {},
     "output_type": "execute_result"
    },
    {
     "data": {
      "image/png": "[encoded data removed]",
      "text/plain": [
       "<Figure size 432x288 with 1 Axes>"
      ]
     },
     "metadata": {},
     "output_type": "display_data"
    }
   ],
   "source": [
    "newxbox_data['query_length'].plot(bins=50, kind='hist') "
   ]
  },
  {
   "cell_type": "code",
   "execution_count": 18,
   "id": "1eae2d96",
   "metadata": {},
   "outputs": [],
   "source": [
    "X = newxbox_data.drop(['user', 'sku', 'category'],axis=1)\n",
    "y = newxbox_data.sku\n"
   ]
  },
  {
   "cell_type": "code",
   "execution_count": 19,
   "id": "c94ed484",
   "metadata": {},
   "outputs": [
    {
     "data": {
      "text/html": [
       "<div>\n",
       "<style scoped>\n",
       "    .dataframe tbody tr th:only-of-type {\n",
       "        vertical-align: middle;\n",
       "    }\n",
       "\n",
       "    .dataframe tbody tr th {\n",
       "        vertical-align: top;\n",
       "    }\n",
       "\n",
       "    .dataframe thead th {\n",
       "        text-align: right;\n",
       "    }\n",
       "</style>\n",
       "<table border=\"1\" class=\"dataframe\">\n",
       "  <thead>\n",
       "    <tr style=\"text-align: right;\">\n",
       "      <th></th>\n",
       "      <th>query</th>\n",
       "      <th>click_time</th>\n",
       "      <th>query_time</th>\n",
       "      <th>query_length</th>\n",
       "    </tr>\n",
       "  </thead>\n",
       "  <tbody>\n",
       "    <tr>\n",
       "      <th>1</th>\n",
       "      <td>Gears of war</td>\n",
       "      <td>2011-09-25 13:35:42.198</td>\n",
       "      <td>2011-09-25 13:35:33.234</td>\n",
       "      <td>12</td>\n",
       "    </tr>\n",
       "    <tr>\n",
       "      <th>12</th>\n",
       "      <td>Gears of war 3</td>\n",
       "      <td>2011-10-08 15:54:06.4</td>\n",
       "      <td>2011-10-08 15:53:31.486</td>\n",
       "      <td>14</td>\n",
       "    </tr>\n",
       "    <tr>\n",
       "      <th>23</th>\n",
       "      <td>Gears of war 3</td>\n",
       "      <td>2011-09-07 17:48:58.823</td>\n",
       "      <td>2011-09-07 17:48:52.138</td>\n",
       "      <td>14</td>\n",
       "    </tr>\n",
       "    <tr>\n",
       "      <th>31</th>\n",
       "      <td>Gears of war 3</td>\n",
       "      <td>2011-09-05 20:25:51.207</td>\n",
       "      <td>2011-09-05 20:25:04.134</td>\n",
       "      <td>14</td>\n",
       "    </tr>\n",
       "    <tr>\n",
       "      <th>39</th>\n",
       "      <td>Gears of war</td>\n",
       "      <td>2011-09-20 02:25:50.707</td>\n",
       "      <td>2011-09-20 02:25:34.905</td>\n",
       "      <td>12</td>\n",
       "    </tr>\n",
       "    <tr>\n",
       "      <th>...</th>\n",
       "      <td>...</td>\n",
       "      <td>...</td>\n",
       "      <td>...</td>\n",
       "      <td>...</td>\n",
       "    </tr>\n",
       "    <tr>\n",
       "      <th>42318</th>\n",
       "      <td>Gears of war</td>\n",
       "      <td>2011-09-18 13:38:26.501</td>\n",
       "      <td>2011-09-18 13:35:23.344</td>\n",
       "      <td>12</td>\n",
       "    </tr>\n",
       "    <tr>\n",
       "      <th>42336</th>\n",
       "      <td>battefield 3</td>\n",
       "      <td>2011-10-20 22:25:26.742</td>\n",
       "      <td>2011-10-20 22:24:26.833</td>\n",
       "      <td>12</td>\n",
       "    </tr>\n",
       "    <tr>\n",
       "      <th>42340</th>\n",
       "      <td>battefield</td>\n",
       "      <td>2011-10-29 12:14:37.458</td>\n",
       "      <td>2011-10-29 12:14:28.764</td>\n",
       "      <td>10</td>\n",
       "    </tr>\n",
       "    <tr>\n",
       "      <th>42343</th>\n",
       "      <td>Gears of war 3</td>\n",
       "      <td>2011-09-23 05:44:36.313</td>\n",
       "      <td>2011-09-23 05:44:20.78</td>\n",
       "      <td>14</td>\n",
       "    </tr>\n",
       "    <tr>\n",
       "      <th>42351</th>\n",
       "      <td>Battlefield 3</td>\n",
       "      <td>2011-09-30 00:43:37.343</td>\n",
       "      <td>2011-09-30 00:43:17.95</td>\n",
       "      <td>13</td>\n",
       "    </tr>\n",
       "  </tbody>\n",
       "</table>\n",
       "<p>5573 rows × 4 columns</p>\n",
       "</div>"
      ],
      "text/plain": [
       "                query               click_time               query_time  \\\n",
       "1        Gears of war  2011-09-25 13:35:42.198  2011-09-25 13:35:33.234   \n",
       "12     Gears of war 3    2011-10-08 15:54:06.4  2011-10-08 15:53:31.486   \n",
       "23     Gears of war 3  2011-09-07 17:48:58.823  2011-09-07 17:48:52.138   \n",
       "31     Gears of war 3  2011-09-05 20:25:51.207  2011-09-05 20:25:04.134   \n",
       "39       Gears of war  2011-09-20 02:25:50.707  2011-09-20 02:25:34.905   \n",
       "...               ...                      ...                      ...   \n",
       "42318    Gears of war  2011-09-18 13:38:26.501  2011-09-18 13:35:23.344   \n",
       "42336    battefield 3  2011-10-20 22:25:26.742  2011-10-20 22:24:26.833   \n",
       "42340      battefield  2011-10-29 12:14:37.458  2011-10-29 12:14:28.764   \n",
       "42343  Gears of war 3  2011-09-23 05:44:36.313   2011-09-23 05:44:20.78   \n",
       "42351   Battlefield 3  2011-09-30 00:43:37.343   2011-09-30 00:43:17.95   \n",
       "\n",
       "       query_length  \n",
       "1                12  \n",
       "12               14  \n",
       "23               14  \n",
       "31               14  \n",
       "39               12  \n",
       "...             ...  \n",
       "42318            12  \n",
       "42336            12  \n",
       "42340            10  \n",
       "42343            14  \n",
       "42351            13  \n",
       "\n",
       "[5573 rows x 4 columns]"
      ]
     },
     "execution_count": 19,
     "metadata": {},
     "output_type": "execute_result"
    }
   ],
   "source": [
    "X"
   ]
  },
  {
   "cell_type": "markdown",
   "id": "3dd5dee7",
   "metadata": {},
   "source": [
    "## converting into timestamp"
   ]
  },
  {
   "cell_type": "code",
   "execution_count": 20,
   "id": "64544aff",
   "metadata": {},
   "outputs": [],
   "source": [
    "from datetime import datetime\n",
    "\n",
    "X.click_time = X[['click_time']].transform(lambda x: x + '.' + '0' * 6 if len(x) == 19  else x + (26 - len(x)) * '0')\n",
    "X.query_time = X[['query_time']].transform(lambda x: x + '.' + '0' * 6 if len(x) == 19  else x + (26 - len(x)) * '0')\n",
    "\n",
    "X = X.transform({'query': (lambda x: x.lower()), 'click_time':(lambda time: int(''.join(c for c in time if c.isdigit()))), \\\n",
    "                'query_time': (lambda time: int(''.join(c for c in time if c.isdigit())))})"
   ]
  },
  {
   "cell_type": "markdown",
   "id": "9e62f8f8",
   "metadata": {},
   "source": [
    "## hash based encoding"
   ]
  },
  {
   "cell_type": "code",
   "execution_count": 21,
   "id": "e8110ab5",
   "metadata": {},
   "outputs": [
    {
     "data": {
      "text/plain": [
       "408"
      ]
     },
     "execution_count": 21,
     "metadata": {},
     "output_type": "execute_result"
    }
   ],
   "source": [
    "query_type = X['query'].unique()\n",
    "query_size = X['query'].nunique()\n",
    "query_dict = {query_type[i]: i for i in range(query_size)}\n",
    "query_dict['ncaa 2011']"
   ]
  },
  {
   "cell_type": "code",
   "execution_count": 22,
   "id": "91a7c605",
   "metadata": {},
   "outputs": [],
   "source": [
    "X =  X.transform({'query': (lambda x: query_dict[x]), 'click_time': (lambda x: x), 'query_time' : (lambda x: x)})"
   ]
  },
  {
   "cell_type": "code",
   "execution_count": 23,
   "id": "56fc9ea8",
   "metadata": {},
   "outputs": [
    {
     "data": {
      "text/html": [
       "<div>\n",
       "<style scoped>\n",
       "    .dataframe tbody tr th:only-of-type {\n",
       "        vertical-align: middle;\n",
       "    }\n",
       "\n",
       "    .dataframe tbody tr th {\n",
       "        vertical-align: top;\n",
       "    }\n",
       "\n",
       "    .dataframe thead th {\n",
       "        text-align: right;\n",
       "    }\n",
       "</style>\n",
       "<table border=\"1\" class=\"dataframe\">\n",
       "  <thead>\n",
       "    <tr style=\"text-align: right;\">\n",
       "      <th></th>\n",
       "      <th>query</th>\n",
       "      <th>click_time</th>\n",
       "      <th>query_time</th>\n",
       "      <th>query_length</th>\n",
       "    </tr>\n",
       "  </thead>\n",
       "  <tbody>\n",
       "    <tr>\n",
       "      <th>1</th>\n",
       "      <td>0</td>\n",
       "      <td>20110925133542198</td>\n",
       "      <td>20110925133533234</td>\n",
       "      <td>12</td>\n",
       "    </tr>\n",
       "    <tr>\n",
       "      <th>12</th>\n",
       "      <td>1</td>\n",
       "      <td>201110081554064</td>\n",
       "      <td>20111008155331486</td>\n",
       "      <td>14</td>\n",
       "    </tr>\n",
       "    <tr>\n",
       "      <th>23</th>\n",
       "      <td>1</td>\n",
       "      <td>20110907174858823</td>\n",
       "      <td>20110907174852138</td>\n",
       "      <td>14</td>\n",
       "    </tr>\n",
       "    <tr>\n",
       "      <th>31</th>\n",
       "      <td>1</td>\n",
       "      <td>20110905202551207</td>\n",
       "      <td>20110905202504134</td>\n",
       "      <td>14</td>\n",
       "    </tr>\n",
       "    <tr>\n",
       "      <th>39</th>\n",
       "      <td>0</td>\n",
       "      <td>20110920022550707</td>\n",
       "      <td>20110920022534905</td>\n",
       "      <td>12</td>\n",
       "    </tr>\n",
       "    <tr>\n",
       "      <th>...</th>\n",
       "      <td>...</td>\n",
       "      <td>...</td>\n",
       "      <td>...</td>\n",
       "      <td>...</td>\n",
       "    </tr>\n",
       "    <tr>\n",
       "      <th>42318</th>\n",
       "      <td>0</td>\n",
       "      <td>20110918133826501</td>\n",
       "      <td>20110918133523344</td>\n",
       "      <td>12</td>\n",
       "    </tr>\n",
       "    <tr>\n",
       "      <th>42336</th>\n",
       "      <td>338</td>\n",
       "      <td>20111020222526742</td>\n",
       "      <td>20111020222426833</td>\n",
       "      <td>12</td>\n",
       "    </tr>\n",
       "    <tr>\n",
       "      <th>42340</th>\n",
       "      <td>155</td>\n",
       "      <td>20111029121437458</td>\n",
       "      <td>20111029121428764</td>\n",
       "      <td>10</td>\n",
       "    </tr>\n",
       "    <tr>\n",
       "      <th>42343</th>\n",
       "      <td>1</td>\n",
       "      <td>20110923054436313</td>\n",
       "      <td>2011092305442078</td>\n",
       "      <td>14</td>\n",
       "    </tr>\n",
       "    <tr>\n",
       "      <th>42351</th>\n",
       "      <td>3</td>\n",
       "      <td>20110930004337343</td>\n",
       "      <td>2011093000431795</td>\n",
       "      <td>13</td>\n",
       "    </tr>\n",
       "  </tbody>\n",
       "</table>\n",
       "<p>5573 rows × 4 columns</p>\n",
       "</div>"
      ],
      "text/plain": [
       "       query         click_time         query_time  query_length\n",
       "1          0  20110925133542198  20110925133533234            12\n",
       "12         1    201110081554064  20111008155331486            14\n",
       "23         1  20110907174858823  20110907174852138            14\n",
       "31         1  20110905202551207  20110905202504134            14\n",
       "39         0  20110920022550707  20110920022534905            12\n",
       "...      ...                ...                ...           ...\n",
       "42318      0  20110918133826501  20110918133523344            12\n",
       "42336    338  20111020222526742  20111020222426833            12\n",
       "42340    155  20111029121437458  20111029121428764            10\n",
       "42343      1  20110923054436313   2011092305442078            14\n",
       "42351      3  20110930004337343   2011093000431795            13\n",
       "\n",
       "[5573 rows x 4 columns]"
      ]
     },
     "execution_count": 23,
     "metadata": {},
     "output_type": "execute_result"
    }
   ],
   "source": [
    "X['query_length']=newxbox_data['query'].apply(len)\n",
    "X"
   ]
  },
  {
   "cell_type": "markdown",
   "id": "740251ac",
   "metadata": {},
   "source": [
    "# classification algorithms"
   ]
  },
  {
   "cell_type": "code",
   "execution_count": 24,
   "id": "7241c8ac",
   "metadata": {},
   "outputs": [],
   "source": [
    "X_train, X_test, y_train, y_test = train_test_split(X, y, test_size=0.3, random_state=101)\n",
    "accuracies = dict()"
   ]
  },
  {
   "cell_type": "markdown",
   "id": "40e61af8",
   "metadata": {},
   "source": [
    "## Random Forest"
   ]
  },
  {
   "cell_type": "code",
   "execution_count": 25,
   "id": "2ae373dc",
   "metadata": {},
   "outputs": [],
   "source": [
    "rfc=RandomForestClassifier(n_estimators=200)\n",
    "rfc.fit(X_train,y_train)\n",
    "\n",
    "predictions=rfc.predict(X_test)"
   ]
  },
  {
   "cell_type": "code",
   "execution_count": 26,
   "id": "088a6752",
   "metadata": {},
   "outputs": [
    {
     "name": "stdout",
     "output_type": "stream",
     "text": [
      "0.9455741626794258\n"
     ]
    }
   ],
   "source": [
    "accuracy=accuracy_score(y_test,predictions)\n",
    "print(accuracy)\n",
    "accuracies['Random Forest']=accuracy*100"
   ]
  },
  {
   "cell_type": "markdown",
   "id": "1c36e82b",
   "metadata": {},
   "source": [
    "## Logistic Regression"
   ]
  },
  {
   "cell_type": "code",
   "execution_count": 27,
   "id": "13127807",
   "metadata": {},
   "outputs": [
    {
     "name": "stdout",
     "output_type": "stream",
     "text": [
      "0.5149521531100478\n"
     ]
    }
   ],
   "source": [
    "mnb=LogisticRegression()\n",
    "mnb.fit(X_train,y_train)\n",
    "\n",
    "prednb=mnb.predict(X_test)\n",
    "accuracy=accuracy_score(y_test,prednb)\n",
    "print(accuracy)\n",
    "accuracies['Logistic Regression']=accuracy*100"
   ]
  },
  {
   "cell_type": "markdown",
   "id": "39d93fba",
   "metadata": {},
   "source": [
    "## LightGBM"
   ]
  },
  {
   "cell_type": "code",
   "execution_count": 28,
   "id": "0d2c3422",
   "metadata": {},
   "outputs": [
    {
     "name": "stdout",
     "output_type": "stream",
     "text": [
      "0.9503588516746412\n"
     ]
    }
   ],
   "source": [
    "X_train_lgb = X_train.astype('float64')\n",
    "y_train_lgb = y_train.astype('float64')\n",
    "X_test_lgb = X_test.astype('float64')\n",
    "y_test_lgb = y_test.astype('float64')\n",
    "\n",
    "lgb = LGBMClassifier()\n",
    "lgb.fit(X_train_lgb,y_train_lgb)\n",
    "\n",
    "Y_pred = lgb.predict(X_test_lgb)\n",
    "predictions = [round(value) for value in Y_pred]\n",
    "\n",
    "accuracy = accuracy_score(y_test_lgb,Y_pred)\n",
    "accuracies['lightGBM']=accuracy*100\n",
    "print(accuracy)"
   ]
  },
  {
   "cell_type": "markdown",
   "id": "2504be9e",
   "metadata": {},
   "source": [
    "## KNN"
   ]
  },
  {
   "cell_type": "code",
   "execution_count": 29,
   "id": "37a96bdf",
   "metadata": {},
   "outputs": [
    {
     "name": "stdout",
     "output_type": "stream",
     "text": [
      "0.8008373205741627\n"
     ]
    }
   ],
   "source": [
    "knn=KNeighborsClassifier(n_neighbors=35)\n",
    "knn.fit(X_train,y_train)\n",
    "pred_knn=knn.predict(X_test)\n",
    "accuracy=accuracy_score(y_test,pred_knn)\n",
    "print(accuracy)\n",
    "accuracies['KNN']=accuracy*100"
   ]
  },
  {
   "cell_type": "code",
   "execution_count": 30,
   "id": "36d3dac4",
   "metadata": {},
   "outputs": [],
   "source": [
    "error_rate = []\n",
    "\n",
    "for i in range(1,50):\n",
    "    \n",
    "    knn = KNeighborsClassifier(n_neighbors=i)\n",
    "    knn.fit(X_train,y_train)\n",
    "    pred_i = knn.predict(X_test)\n",
    "    error_rate.append(np.mean(pred_i != y_test))"
   ]
  },
  {
   "cell_type": "code",
   "execution_count": 31,
   "id": "16cecc1e",
   "metadata": {
    "scrolled": false
   },
   "outputs": [
    {
     "data": {
      "text/plain": [
       "Text(0, 0.5, 'Error Rate')"
      ]
     },
     "execution_count": 31,
     "metadata": {},
     "output_type": "execute_result"
    },
    {
     "data": {
      "image/png": "[encoded data removed]",
      "text/plain": [
       "<Figure size 720x432 with 1 Axes>"
      ]
     },
     "metadata": {},
     "output_type": "display_data"
    }
   ],
   "source": [
    "plt.figure(figsize=(10,6))\n",
    "plt.plot(range(1,50),error_rate,color='blue', linestyle='dashed', marker='o',\n",
    "         markerfacecolor='red', markersize=10)\n",
    "plt.title('Error Rate vs. K Value')\n",
    "plt.xlabel('K')\n",
    "plt.ylabel('Error Rate')"
   ]
  },
  {
   "cell_type": "code",
   "execution_count": 32,
   "id": "bedb5c3a",
   "metadata": {},
   "outputs": [
    {
     "name": "stdout",
     "output_type": "stream",
     "text": [
      "{'Random Forest': 94.55741626794259, 'Logistic Regression': 51.495215311004785, 'lightGBM': 95.03588516746412, 'KNN': 80.08373205741627}\n"
     ]
    }
   ],
   "source": [
    "print(accuracies)"
   ]
  },
  {
   "cell_type": "code",
   "execution_count": 33,
   "id": "253a67ad",
   "metadata": {},
   "outputs": [],
   "source": [
    "accu = pd.DataFrame.from_dict(accuracies,orient='index',columns = ['Accuracy'])"
   ]
  },
  {
   "cell_type": "code",
   "execution_count": 34,
   "id": "cb50f75c",
   "metadata": {},
   "outputs": [
    {
     "data": {
      "text/html": [
       "<div>\n",
       "<style scoped>\n",
       "    .dataframe tbody tr th:only-of-type {\n",
       "        vertical-align: middle;\n",
       "    }\n",
       "\n",
       "    .dataframe tbody tr th {\n",
       "        vertical-align: top;\n",
       "    }\n",
       "\n",
       "    .dataframe thead th {\n",
       "        text-align: right;\n",
       "    }\n",
       "</style>\n",
       "<table border=\"1\" class=\"dataframe\">\n",
       "  <thead>\n",
       "    <tr style=\"text-align: right;\">\n",
       "      <th></th>\n",
       "      <th>Accuracy</th>\n",
       "    </tr>\n",
       "  </thead>\n",
       "  <tbody>\n",
       "    <tr>\n",
       "      <th>Random Forest</th>\n",
       "      <td>94.557416</td>\n",
       "    </tr>\n",
       "    <tr>\n",
       "      <th>Logistic Regression</th>\n",
       "      <td>51.495215</td>\n",
       "    </tr>\n",
       "    <tr>\n",
       "      <th>lightGBM</th>\n",
       "      <td>95.035885</td>\n",
       "    </tr>\n",
       "    <tr>\n",
       "      <th>KNN</th>\n",
       "      <td>80.083732</td>\n",
       "    </tr>\n",
       "  </tbody>\n",
       "</table>\n",
       "</div>"
      ],
      "text/plain": [
       "                      Accuracy\n",
       "Random Forest        94.557416\n",
       "Logistic Regression  51.495215\n",
       "lightGBM             95.035885\n",
       "KNN                  80.083732"
      ]
     },
     "execution_count": 34,
     "metadata": {},
     "output_type": "execute_result"
    }
   ],
   "source": [
    "accu"
   ]
  },
  {
   "cell_type": "code",
   "execution_count": 35,
   "id": "2710a0e2",
   "metadata": {},
   "outputs": [
    {
     "data": {
      "text/plain": [
       "<AxesSubplot:xlabel='Algorithms', ylabel='Accuracy'>"
      ]
     },
     "execution_count": 35,
     "metadata": {},
     "output_type": "execute_result"
    },
    {
     "data": {
      "image/png": "[encoded data removed]",
      "text/plain": [
       "<Figure size 864x720 with 1 Axes>"
      ]
     },
     "metadata": {},
     "output_type": "display_data"
    }
   ],
   "source": [
    "plt.figure(figsize=(12,10))\n",
    "plt.yticks(np.arange(0,100,5))\n",
    "plt.ylabel(\"Accuracy %\")\n",
    "plt.xlabel(\"Algorithms\")\n",
    "sns.barplot(x=accu.index,y=accu['Accuracy'])"
   ]
  },
  {
   "cell_type": "markdown",
   "id": "deb4b2c9",
   "metadata": {},
   "source": [
    "# OneHotEncoding"
   ]
  },
  {
   "cell_type": "code",
   "execution_count": 36,
   "id": "a645547a",
   "metadata": {},
   "outputs": [],
   "source": [
    "X_hut=newxbox_data.drop(['sku','category','user'],axis=1)"
   ]
  },
  {
   "cell_type": "code",
   "execution_count": 37,
   "id": "0cc82733",
   "metadata": {},
   "outputs": [],
   "source": [
    "query=pd.get_dummies(X_hut['query'],drop_first=True)"
   ]
  },
  {
   "cell_type": "code",
   "execution_count": 38,
   "id": "c7689947",
   "metadata": {},
   "outputs": [],
   "source": [
    "from datetime import datetime\n",
    "\n",
    "X_hut.click_time = X_hut[['click_time']].transform(lambda x: x + '.' + '0' * 6 if len(x) == 19  else x + (26 - len(x)) * '0')\n",
    "X_hut.query_time = X_hut[['query_time']].transform(lambda x: x + '.' + '0' * 6 if len(x) == 19  else x + (26 - len(x)) * '0')\n",
    "\n",
    "X_hut = X_hut.transform({'click_time':(lambda time: int(''.join(c for c in time if c.isdigit()))), \\\n",
    "                'query_time': (lambda time: int(''.join(c for c in time if c.isdigit())))})"
   ]
  },
  {
   "cell_type": "code",
   "execution_count": 39,
   "id": "63696fc0",
   "metadata": {},
   "outputs": [],
   "source": [
    "X_hut =  X_hut.transform({ 'click_time': (lambda x: x), 'query_time' : (lambda x: x)})"
   ]
  },
  {
   "cell_type": "code",
   "execution_count": 40,
   "id": "8ba7be2c",
   "metadata": {},
   "outputs": [],
   "source": [
    "X_hut=pd.concat([X_hut,query],axis=1)"
   ]
  },
  {
   "cell_type": "code",
   "execution_count": 41,
   "id": "dc49efcb",
   "metadata": {},
   "outputs": [
    {
     "data": {
      "text/html": [
       "<div>\n",
       "<style scoped>\n",
       "    .dataframe tbody tr th:only-of-type {\n",
       "        vertical-align: middle;\n",
       "    }\n",
       "\n",
       "    .dataframe tbody tr th {\n",
       "        vertical-align: top;\n",
       "    }\n",
       "\n",
       "    .dataframe thead th {\n",
       "        text-align: right;\n",
       "    }\n",
       "</style>\n",
       "<table border=\"1\" class=\"dataframe\">\n",
       "  <thead>\n",
       "    <tr style=\"text-align: right;\">\n",
       "      <th></th>\n",
       "      <th>click_time</th>\n",
       "      <th>query_time</th>\n",
       "      <th>20110801_GOW3</th>\n",
       "      <th>201109_Gaming</th>\n",
       "      <th>2371074 2126339 2126108</th>\n",
       "      <th>2398896 2402035 5386263 5386272 6804112 8579932 8589878 9374278 9650424</th>\n",
       "      <th>2622037 2127204 2127213 2121716 2138291</th>\n",
       "      <th>3</th>\n",
       "      <th>3 outlet peer strip</th>\n",
       "      <th>32 lcd tv</th>\n",
       "      <th>...</th>\n",
       "      <th>xbox gears</th>\n",
       "      <th>xbox gears of war</th>\n",
       "      <th>xbox kenet</th>\n",
       "      <th>xbox live gold membership</th>\n",
       "      <th>xbox360</th>\n",
       "      <th>xbox360 av cord</th>\n",
       "      <th>xbox360 game remotes</th>\n",
       "      <th>xbox360 games</th>\n",
       "      <th>yelawolf</th>\n",
       "      <th>you dont know jack the game</th>\n",
       "    </tr>\n",
       "  </thead>\n",
       "  <tbody>\n",
       "    <tr>\n",
       "      <th>1</th>\n",
       "      <td>20110925133542198</td>\n",
       "      <td>20110925133533234</td>\n",
       "      <td>0</td>\n",
       "      <td>0</td>\n",
       "      <td>0</td>\n",
       "      <td>0</td>\n",
       "      <td>0</td>\n",
       "      <td>0</td>\n",
       "      <td>0</td>\n",
       "      <td>0</td>\n",
       "      <td>...</td>\n",
       "      <td>0</td>\n",
       "      <td>0</td>\n",
       "      <td>0</td>\n",
       "      <td>0</td>\n",
       "      <td>0</td>\n",
       "      <td>0</td>\n",
       "      <td>0</td>\n",
       "      <td>0</td>\n",
       "      <td>0</td>\n",
       "      <td>0</td>\n",
       "    </tr>\n",
       "    <tr>\n",
       "      <th>12</th>\n",
       "      <td>201110081554064</td>\n",
       "      <td>20111008155331486</td>\n",
       "      <td>0</td>\n",
       "      <td>0</td>\n",
       "      <td>0</td>\n",
       "      <td>0</td>\n",
       "      <td>0</td>\n",
       "      <td>0</td>\n",
       "      <td>0</td>\n",
       "      <td>0</td>\n",
       "      <td>...</td>\n",
       "      <td>0</td>\n",
       "      <td>0</td>\n",
       "      <td>0</td>\n",
       "      <td>0</td>\n",
       "      <td>0</td>\n",
       "      <td>0</td>\n",
       "      <td>0</td>\n",
       "      <td>0</td>\n",
       "      <td>0</td>\n",
       "      <td>0</td>\n",
       "    </tr>\n",
       "    <tr>\n",
       "      <th>23</th>\n",
       "      <td>20110907174858823</td>\n",
       "      <td>20110907174852138</td>\n",
       "      <td>0</td>\n",
       "      <td>0</td>\n",
       "      <td>0</td>\n",
       "      <td>0</td>\n",
       "      <td>0</td>\n",
       "      <td>0</td>\n",
       "      <td>0</td>\n",
       "      <td>0</td>\n",
       "      <td>...</td>\n",
       "      <td>0</td>\n",
       "      <td>0</td>\n",
       "      <td>0</td>\n",
       "      <td>0</td>\n",
       "      <td>0</td>\n",
       "      <td>0</td>\n",
       "      <td>0</td>\n",
       "      <td>0</td>\n",
       "      <td>0</td>\n",
       "      <td>0</td>\n",
       "    </tr>\n",
       "    <tr>\n",
       "      <th>31</th>\n",
       "      <td>20110905202551207</td>\n",
       "      <td>20110905202504134</td>\n",
       "      <td>0</td>\n",
       "      <td>0</td>\n",
       "      <td>0</td>\n",
       "      <td>0</td>\n",
       "      <td>0</td>\n",
       "      <td>0</td>\n",
       "      <td>0</td>\n",
       "      <td>0</td>\n",
       "      <td>...</td>\n",
       "      <td>0</td>\n",
       "      <td>0</td>\n",
       "      <td>0</td>\n",
       "      <td>0</td>\n",
       "      <td>0</td>\n",
       "      <td>0</td>\n",
       "      <td>0</td>\n",
       "      <td>0</td>\n",
       "      <td>0</td>\n",
       "      <td>0</td>\n",
       "    </tr>\n",
       "    <tr>\n",
       "      <th>39</th>\n",
       "      <td>20110920022550707</td>\n",
       "      <td>20110920022534905</td>\n",
       "      <td>0</td>\n",
       "      <td>0</td>\n",
       "      <td>0</td>\n",
       "      <td>0</td>\n",
       "      <td>0</td>\n",
       "      <td>0</td>\n",
       "      <td>0</td>\n",
       "      <td>0</td>\n",
       "      <td>...</td>\n",
       "      <td>0</td>\n",
       "      <td>0</td>\n",
       "      <td>0</td>\n",
       "      <td>0</td>\n",
       "      <td>0</td>\n",
       "      <td>0</td>\n",
       "      <td>0</td>\n",
       "      <td>0</td>\n",
       "      <td>0</td>\n",
       "      <td>0</td>\n",
       "    </tr>\n",
       "    <tr>\n",
       "      <th>49</th>\n",
       "      <td>20110925205734937</td>\n",
       "      <td>20110925205727225</td>\n",
       "      <td>0</td>\n",
       "      <td>0</td>\n",
       "      <td>0</td>\n",
       "      <td>0</td>\n",
       "      <td>0</td>\n",
       "      <td>0</td>\n",
       "      <td>0</td>\n",
       "      <td>0</td>\n",
       "      <td>...</td>\n",
       "      <td>0</td>\n",
       "      <td>0</td>\n",
       "      <td>0</td>\n",
       "      <td>0</td>\n",
       "      <td>0</td>\n",
       "      <td>0</td>\n",
       "      <td>0</td>\n",
       "      <td>0</td>\n",
       "      <td>0</td>\n",
       "      <td>0</td>\n",
       "    </tr>\n",
       "    <tr>\n",
       "      <th>57</th>\n",
       "      <td>20111031081423333</td>\n",
       "      <td>20111031081405281</td>\n",
       "      <td>0</td>\n",
       "      <td>0</td>\n",
       "      <td>0</td>\n",
       "      <td>0</td>\n",
       "      <td>0</td>\n",
       "      <td>0</td>\n",
       "      <td>0</td>\n",
       "      <td>0</td>\n",
       "      <td>...</td>\n",
       "      <td>0</td>\n",
       "      <td>0</td>\n",
       "      <td>0</td>\n",
       "      <td>0</td>\n",
       "      <td>0</td>\n",
       "      <td>0</td>\n",
       "      <td>0</td>\n",
       "      <td>0</td>\n",
       "      <td>0</td>\n",
       "      <td>0</td>\n",
       "    </tr>\n",
       "    <tr>\n",
       "      <th>61</th>\n",
       "      <td>2011102221120448</td>\n",
       "      <td>20111022211147682</td>\n",
       "      <td>0</td>\n",
       "      <td>0</td>\n",
       "      <td>0</td>\n",
       "      <td>0</td>\n",
       "      <td>0</td>\n",
       "      <td>0</td>\n",
       "      <td>0</td>\n",
       "      <td>0</td>\n",
       "      <td>...</td>\n",
       "      <td>0</td>\n",
       "      <td>0</td>\n",
       "      <td>0</td>\n",
       "      <td>0</td>\n",
       "      <td>0</td>\n",
       "      <td>0</td>\n",
       "      <td>0</td>\n",
       "      <td>0</td>\n",
       "      <td>0</td>\n",
       "      <td>0</td>\n",
       "    </tr>\n",
       "    <tr>\n",
       "      <th>63</th>\n",
       "      <td>20111021005927618</td>\n",
       "      <td>20111021005919095</td>\n",
       "      <td>0</td>\n",
       "      <td>0</td>\n",
       "      <td>0</td>\n",
       "      <td>0</td>\n",
       "      <td>0</td>\n",
       "      <td>0</td>\n",
       "      <td>0</td>\n",
       "      <td>0</td>\n",
       "      <td>...</td>\n",
       "      <td>0</td>\n",
       "      <td>0</td>\n",
       "      <td>0</td>\n",
       "      <td>0</td>\n",
       "      <td>0</td>\n",
       "      <td>0</td>\n",
       "      <td>0</td>\n",
       "      <td>0</td>\n",
       "      <td>0</td>\n",
       "      <td>0</td>\n",
       "    </tr>\n",
       "    <tr>\n",
       "      <th>74</th>\n",
       "      <td>2011092817063868</td>\n",
       "      <td>20110928170633724</td>\n",
       "      <td>0</td>\n",
       "      <td>0</td>\n",
       "      <td>0</td>\n",
       "      <td>0</td>\n",
       "      <td>0</td>\n",
       "      <td>0</td>\n",
       "      <td>0</td>\n",
       "      <td>0</td>\n",
       "      <td>...</td>\n",
       "      <td>0</td>\n",
       "      <td>0</td>\n",
       "      <td>0</td>\n",
       "      <td>0</td>\n",
       "      <td>0</td>\n",
       "      <td>0</td>\n",
       "      <td>0</td>\n",
       "      <td>0</td>\n",
       "      <td>0</td>\n",
       "      <td>0</td>\n",
       "    </tr>\n",
       "  </tbody>\n",
       "</table>\n",
       "<p>10 rows × 620 columns</p>\n",
       "</div>"
      ],
      "text/plain": [
       "           click_time         query_time  20110801_GOW3  201109_Gaming  \\\n",
       "1   20110925133542198  20110925133533234              0              0   \n",
       "12    201110081554064  20111008155331486              0              0   \n",
       "23  20110907174858823  20110907174852138              0              0   \n",
       "31  20110905202551207  20110905202504134              0              0   \n",
       "39  20110920022550707  20110920022534905              0              0   \n",
       "49  20110925205734937  20110925205727225              0              0   \n",
       "57  20111031081423333  20111031081405281              0              0   \n",
       "61   2011102221120448  20111022211147682              0              0   \n",
       "63  20111021005927618  20111021005919095              0              0   \n",
       "74   2011092817063868  20110928170633724              0              0   \n",
       "\n",
       "    2371074 2126339 2126108  \\\n",
       "1                         0   \n",
       "12                        0   \n",
       "23                        0   \n",
       "31                        0   \n",
       "39                        0   \n",
       "49                        0   \n",
       "57                        0   \n",
       "61                        0   \n",
       "63                        0   \n",
       "74                        0   \n",
       "\n",
       "    2398896 2402035 5386263 5386272 6804112 8579932 8589878 9374278 9650424  \\\n",
       "1                                                   0                         \n",
       "12                                                  0                         \n",
       "23                                                  0                         \n",
       "31                                                  0                         \n",
       "39                                                  0                         \n",
       "49                                                  0                         \n",
       "57                                                  0                         \n",
       "61                                                  0                         \n",
       "63                                                  0                         \n",
       "74                                                  0                         \n",
       "\n",
       "    2622037 2127204 2127213 2121716 2138291  3  3 outlet peer strip  \\\n",
       "1                                         0  0                    0   \n",
       "12                                        0  0                    0   \n",
       "23                                        0  0                    0   \n",
       "31                                        0  0                    0   \n",
       "39                                        0  0                    0   \n",
       "49                                        0  0                    0   \n",
       "57                                        0  0                    0   \n",
       "61                                        0  0                    0   \n",
       "63                                        0  0                    0   \n",
       "74                                        0  0                    0   \n",
       "\n",
       "    32 lcd tv  ...  xbox gears  xbox gears of war  xbox kenet  \\\n",
       "1           0  ...           0                  0           0   \n",
       "12          0  ...           0                  0           0   \n",
       "23          0  ...           0                  0           0   \n",
       "31          0  ...           0                  0           0   \n",
       "39          0  ...           0                  0           0   \n",
       "49          0  ...           0                  0           0   \n",
       "57          0  ...           0                  0           0   \n",
       "61          0  ...           0                  0           0   \n",
       "63          0  ...           0                  0           0   \n",
       "74          0  ...           0                  0           0   \n",
       "\n",
       "    xbox live gold membership  xbox360  xbox360 av cord  xbox360 game remotes  \\\n",
       "1                           0        0                0                     0   \n",
       "12                          0        0                0                     0   \n",
       "23                          0        0                0                     0   \n",
       "31                          0        0                0                     0   \n",
       "39                          0        0                0                     0   \n",
       "49                          0        0                0                     0   \n",
       "57                          0        0                0                     0   \n",
       "61                          0        0                0                     0   \n",
       "63                          0        0                0                     0   \n",
       "74                          0        0                0                     0   \n",
       "\n",
       "    xbox360 games  yelawolf  you dont know jack the game  \n",
       "1               0         0                            0  \n",
       "12              0         0                            0  \n",
       "23              0         0                            0  \n",
       "31              0         0                            0  \n",
       "39              0         0                            0  \n",
       "49              0         0                            0  \n",
       "57              0         0                            0  \n",
       "61              0         0                            0  \n",
       "63              0         0                            0  \n",
       "74              0         0                            0  \n",
       "\n",
       "[10 rows x 620 columns]"
      ]
     },
     "execution_count": 41,
     "metadata": {},
     "output_type": "execute_result"
    }
   ],
   "source": [
    "X_hut.head(10)"
   ]
  },
  {
   "cell_type": "code",
   "execution_count": 42,
   "id": "46f34b23",
   "metadata": {},
   "outputs": [
    {
     "name": "stdout",
     "output_type": "stream",
     "text": [
      "<class 'pandas.core.frame.DataFrame'>\n",
      "Int64Index: 5573 entries, 1 to 42351\n",
      "Columns: 620 entries, click_time to you dont know jack the game\n",
      "dtypes: int64(2), uint8(618)\n",
      "memory usage: 3.4 MB\n"
     ]
    }
   ],
   "source": [
    "X_hut.info()"
   ]
  },
  {
   "cell_type": "code",
   "execution_count": 43,
   "id": "97784c68",
   "metadata": {},
   "outputs": [],
   "source": [
    "X_hut\n",
    "y_hut=newxbox_data['sku']"
   ]
  },
  {
   "cell_type": "code",
   "execution_count": 44,
   "id": "c6e42ea9",
   "metadata": {},
   "outputs": [],
   "source": [
    "Xhut_train, Xhut_test, yhut_train, yhut_test = train_test_split(X_hut, y_hut, test_size=0.3, random_state=101)\n",
    "enc_accuracies=dict()"
   ]
  },
  {
   "cell_type": "code",
   "execution_count": 45,
   "id": "4ae0ef06",
   "metadata": {},
   "outputs": [
    {
     "name": "stdout",
     "output_type": "stream",
     "text": [
      "0.9503588516746412\n"
     ]
    }
   ],
   "source": [
    "rfc=RandomForestClassifier(n_estimators=200)\n",
    "rfc.fit(Xhut_train,yhut_train)\n",
    "\n",
    "predictions_hut=rfc.predict(Xhut_test)\n",
    "\n",
    "print(accuracy_score(yhut_test,predictions_hut))\n",
    "\n",
    "\n",
    "enc_accuracies['Random Forest']=accuracy*100\n"
   ]
  },
  {
   "cell_type": "code",
   "execution_count": 46,
   "id": "a380d4a6",
   "metadata": {},
   "outputs": [
    {
     "name": "stdout",
     "output_type": "stream",
     "text": [
      "0.7972488038277512\n"
     ]
    }
   ],
   "source": [
    "knn=KNeighborsClassifier(n_neighbors=31)\n",
    "knn.fit(Xhut_train,yhut_train)\n",
    "accuracy=knn.predict(Xhut_test)\n",
    "print(accuracy_score(yhut_test,accuracy))\n",
    "\n",
    "enc_accuracies['KNN']=accuracy*100"
   ]
  },
  {
   "cell_type": "code",
   "execution_count": 47,
   "id": "b17282f1",
   "metadata": {},
   "outputs": [],
   "source": [
    "error_rate = []\n",
    "\n",
    "# Will take some time\n",
    "for i in range(1,50):\n",
    "    \n",
    "    knn = KNeighborsClassifier(n_neighbors=i)\n",
    "    knn.fit(Xhut_train,yhut_train)\n",
    "    pred_i = knn.predict(Xhut_test)\n",
    "    error_rate.append(np.mean(pred_i != yhut_test))"
   ]
  },
  {
   "cell_type": "code",
   "execution_count": 48,
   "id": "f769a426",
   "metadata": {},
   "outputs": [
    {
     "data": {
      "text/plain": [
       "Text(0, 0.5, 'Error Rate')"
      ]
     },
     "execution_count": 48,
     "metadata": {},
     "output_type": "execute_result"
    },
    {
     "data": {
      "image/png": "[encoded data removed]",
      "text/plain": [
       "<Figure size 720x432 with 1 Axes>"
      ]
     },
     "metadata": {},
     "output_type": "display_data"
    }
   ],
   "source": [
    "plt.figure(figsize=(10,6))\n",
    "plt.plot(range(1,50),error_rate,color='blue', linestyle='dashed', marker='o',\n",
    "         markerfacecolor='red', markersize=10)\n",
    "plt.title('Error Rate vs. K Value')\n",
    "plt.xlabel('K')\n",
    "plt.ylabel('Error Rate')"
   ]
  },
  {
   "cell_type": "code",
   "execution_count": 49,
   "id": "82b8211f",
   "metadata": {},
   "outputs": [
    {
     "name": "stdout",
     "output_type": "stream",
     "text": [
      "0.9294258373205742\n"
     ]
    }
   ],
   "source": [
    "Xhut_train_lgb = Xhut_train.astype('float64')\n",
    "yhut_train_lgb = yhut_train.astype('float64')\n",
    "Xhut_test_lgb = Xhut_test.astype('float64')\n",
    "yhut_test_lgb = yhut_test.astype('float64')\n",
    "\n",
    "lgb = LGBMClassifier()\n",
    "lgb.fit(Xhut_train_lgb,yhut_train_lgb)\n",
    "\n",
    "Yhut_pred = lgb.predict(Xhut_test_lgb)\n",
    "predictions = [round(value) for value in Yhut_pred]\n",
    "\n",
    "accuracy = accuracy_score(yhut_test_lgb,Yhut_pred)\n",
    "accuracies['lightGBM']=accuracy*100\n",
    "\n",
    "print(accuracy)\n",
    "\n",
    "enc_accuracies['LightGBM']=accuracy*100"
   ]
  },
  {
   "cell_type": "code",
   "execution_count": 50,
   "id": "3b94ec5f",
   "metadata": {},
   "outputs": [
    {
     "name": "stdout",
     "output_type": "stream",
     "text": [
      "0.5149521531100478\n"
     ]
    }
   ],
   "source": [
    "mnb=LogisticRegression()\n",
    "mnb.fit(Xhut_train,yhut_train)\n",
    "\n",
    "pred_nb=mnb.predict(Xhut_test)\n",
    "accuracy=accuracy_score(yhut_test,pred_nb)\n",
    "print(accuracy)\n",
    "accuracies['Logistic Regression']=accuracy*100\n",
    "\n",
    "enc_accuracies['Logistic Regression']=accuracy*100"
   ]
  },
  {
   "cell_type": "code",
   "execution_count": 51,
   "id": "1c309f9c",
   "metadata": {},
   "outputs": [
    {
     "name": "stdout",
     "output_type": "stream",
     "text": [
      "{'Random Forest': 94.55741626794259, 'Logistic Regression': 51.495215311004785, 'lightGBM': 92.94258373205741, 'KNN': 80.08373205741627}\n"
     ]
    }
   ],
   "source": [
    "print(accuracies)"
   ]
  },
  {
   "cell_type": "code",
   "execution_count": 52,
   "id": "881d50c1",
   "metadata": {},
   "outputs": [],
   "source": [
    "enc_accu = pd.DataFrame.from_dict(enc_accuracies,orient='index',columns = ['Accuracy'])"
   ]
  },
  {
   "cell_type": "code",
   "execution_count": 53,
   "id": "9324ef27",
   "metadata": {},
   "outputs": [
    {
     "data": {
      "text/html": [
       "<div>\n",
       "<style scoped>\n",
       "    .dataframe tbody tr th:only-of-type {\n",
       "        vertical-align: middle;\n",
       "    }\n",
       "\n",
       "    .dataframe tbody tr th {\n",
       "        vertical-align: top;\n",
       "    }\n",
       "\n",
       "    .dataframe thead th {\n",
       "        text-align: right;\n",
       "    }\n",
       "</style>\n",
       "<table border=\"1\" class=\"dataframe\">\n",
       "  <thead>\n",
       "    <tr style=\"text-align: right;\">\n",
       "      <th></th>\n",
       "      <th>Accuracy</th>\n",
       "    </tr>\n",
       "  </thead>\n",
       "  <tbody>\n",
       "    <tr>\n",
       "      <th>Random Forest</th>\n",
       "      <td>80.083732</td>\n",
       "    </tr>\n",
       "    <tr>\n",
       "      <th>KNN</th>\n",
       "      <td>[210745800, 210745800, 210745800, 985480400, 9...</td>\n",
       "    </tr>\n",
       "    <tr>\n",
       "      <th>LightGBM</th>\n",
       "      <td>92.942584</td>\n",
       "    </tr>\n",
       "    <tr>\n",
       "      <th>Logistic Regression</th>\n",
       "      <td>51.495215</td>\n",
       "    </tr>\n",
       "  </tbody>\n",
       "</table>\n",
       "</div>"
      ],
      "text/plain": [
       "                                                              Accuracy\n",
       "Random Forest                                                80.083732\n",
       "KNN                  [210745800, 210745800, 210745800, 985480400, 9...\n",
       "LightGBM                                                     92.942584\n",
       "Logistic Regression                                          51.495215"
      ]
     },
     "execution_count": 53,
     "metadata": {},
     "output_type": "execute_result"
    }
   ],
   "source": [
    "enc_accu"
   ]
  },
  {
   "cell_type": "code",
   "execution_count": 54,
   "id": "b5218275",
   "metadata": {},
   "outputs": [
    {
     "data": {
      "text/plain": [
       "<AxesSubplot:title={'center':'Accuracies after onehot encoding'}, xlabel='Algorithms', ylabel='Accuracy'>"
      ]
     },
     "execution_count": 54,
     "metadata": {},
     "output_type": "execute_result"
    },
    {
     "data": {
      "image/png": "[encoded data removed]",
      "text/plain": [
       "<Figure size 864x720 with 1 Axes>"
      ]
     },
     "metadata": {},
     "output_type": "display_data"
    }
   ],
   "source": [
    "plt.figure(figsize=(12,10))\n",
    "plt.yticks(np.arange(0,100,5))\n",
    "plt.title('Accuracies after onehot encoding')\n",
    "plt.ylabel(\"Accuracy %\")\n",
    "plt.xlabel(\"Algorithms\")\n",
    "sns.barplot(x=enc_accu.index,y=accu['Accuracy'])"
   ]
  },
  {
   "cell_type": "code",
   "execution_count": null,
   "id": "ce925020",
   "metadata": {},
   "outputs": [],
   "source": []
  }
 ],
 "metadata": {
  "kernelspec": {
   "display_name": "Python 3",
   "language": "python",
   "name": "python3"
  },
  "language_info": {
   "codemirror_mode": {
    "name": "ipython",
    "version": 3
   },
   "file_extension": ".py",
   "mimetype": "text/x-python",
   "name": "python",
   "nbconvert_exporter": "python",
   "pygments_lexer": "ipython3",
   "version": "3.8.8"
  }
 },
 "nbformat": 4,
 "nbformat_minor": 5
}
